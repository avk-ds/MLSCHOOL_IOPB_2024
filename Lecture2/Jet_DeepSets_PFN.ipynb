{
 "cells": [
  {
   "cell_type": "code",
   "execution_count": 1,
   "metadata": {},
   "outputs": [],
   "source": [
    "import torch#, torchvision, torchmetrics\n",
    "import torch.utils.data as data\n",
    "from torch.utils.data.sampler import SubsetRandomSampler\n",
    "import torch.nn as nn\n",
    "import torch.nn.functional as F\n",
    "import torch.optim as optim\n",
    "from torch.autograd import Variable\n",
    "import numpy as np\n",
    "import tqdm"
   ]
  },
  {
   "cell_type": "code",
   "execution_count": 2,
   "metadata": {},
   "outputs": [],
   "source": [
    "import uproot\n",
    "import vector\n",
    "vector.register_awkward()\n",
    "import awkward as ak\n",
    "import pandas as pd\n",
    "import os\n",
    "import shutil\n",
    "import zipfile\n",
    "import tarfile\n",
    "import urllib\n",
    "import requests\n",
    "from tqdm import tqdm"
   ]
  },
  {
   "cell_type": "code",
   "execution_count": 9,
   "metadata": {},
   "outputs": [
    {
     "name": "stdout",
     "output_type": "stream",
     "text": [
      "Uproot version :  5.0.11\n"
     ]
    }
   ],
   "source": [
    "print('Uproot version : ', uproot.__version__)"
   ]
  },
  {
   "cell_type": "code",
   "execution_count": 3,
   "metadata": {},
   "outputs": [],
   "source": [
    "if(torch.backends.cuda.is_built()) : \n",
    "    device='cuda'\n",
    "elif(torch.backends.mps.is_built()) : \n",
    "    device='mps'\n",
    "else : \n",
    "    device='cpu'"
   ]
  },
  {
   "cell_type": "code",
   "execution_count": 4,
   "metadata": {},
   "outputs": [],
   "source": [
    "dataset_path = '/Users/sanmay/Documents/ICTS_SCHOOL/Main_School/JetDataset/'\n",
    "example_file = dataset_path + 'JetClass_example_100k.root' # -- from -- \"https://hqu.web.cern.ch/datasets/JetClass/example/\" #"
   ]
  },
  {
   "cell_type": "code",
   "execution_count": 5,
   "metadata": {},
   "outputs": [],
   "source": [
    "# Load the content from the file\n",
    "tree = uproot.open(example_file)['tree']"
   ]
  },
  {
   "cell_type": "code",
   "execution_count": 6,
   "metadata": {},
   "outputs": [
    {
     "data": {
      "text/plain": [
       "100000"
      ]
     },
     "execution_count": 6,
     "metadata": {},
     "output_type": "execute_result"
    }
   ],
   "source": [
    "tree.num_entries"
   ]
  },
  {
   "cell_type": "code",
   "execution_count": 11,
   "metadata": {},
   "outputs": [
    {
     "data": {
      "text/plain": [
       "['part_px',\n",
       " 'part_py',\n",
       " 'part_pz',\n",
       " 'part_energy',\n",
       " 'part_deta',\n",
       " 'part_dphi',\n",
       " 'part_d0val',\n",
       " 'part_d0err',\n",
       " 'part_dzval',\n",
       " 'part_dzerr',\n",
       " 'part_charge',\n",
       " 'part_isChargedHadron',\n",
       " 'part_isNeutralHadron',\n",
       " 'part_isPhoton',\n",
       " 'part_isElectron',\n",
       " 'part_isMuon']"
      ]
     },
     "execution_count": 11,
     "metadata": {},
     "output_type": "execute_result"
    }
   ],
   "source": [
    "tree.keys(filter_name='part_*')"
   ]
  },
  {
   "cell_type": "code",
   "execution_count": 8,
   "metadata": {},
   "outputs": [
    {
     "name": "stdout",
     "output_type": "stream",
     "text": [
      "name                 | typename                 | interpretation                \n",
      "---------------------+--------------------------+-------------------------------\n",
      "part_px              | std::vector<float>       | AsJagged(AsDtype('>f4'), he...\n",
      "part_py              | std::vector<float>       | AsJagged(AsDtype('>f4'), he...\n",
      "part_pz              | std::vector<float>       | AsJagged(AsDtype('>f4'), he...\n",
      "part_energy          | std::vector<float>       | AsJagged(AsDtype('>f4'), he...\n",
      "part_deta            | std::vector<float>       | AsJagged(AsDtype('>f4'), he...\n",
      "part_dphi            | std::vector<float>       | AsJagged(AsDtype('>f4'), he...\n",
      "part_d0val           | std::vector<float>       | AsJagged(AsDtype('>f4'), he...\n",
      "part_d0err           | std::vector<float>       | AsJagged(AsDtype('>f4'), he...\n",
      "part_dzval           | std::vector<float>       | AsJagged(AsDtype('>f4'), he...\n",
      "part_dzerr           | std::vector<float>       | AsJagged(AsDtype('>f4'), he...\n",
      "part_charge          | std::vector<float>       | AsJagged(AsDtype('>f4'), he...\n",
      "part_isChargedHadron | std::vector<int32_t>     | AsJagged(AsDtype('>i4'), he...\n",
      "part_isNeutralHadron | std::vector<int32_t>     | AsJagged(AsDtype('>i4'), he...\n",
      "part_isPhoton        | std::vector<int32_t>     | AsJagged(AsDtype('>i4'), he...\n",
      "part_isElectron      | std::vector<int32_t>     | AsJagged(AsDtype('>i4'), he...\n",
      "part_isMuon          | std::vector<int32_t>     | AsJagged(AsDtype('>i4'), he...\n",
      "label_QCD            | float                    | AsDtype('>f4')\n",
      "label_Hbb            | bool                     | AsDtype('bool')\n",
      "label_Hcc            | bool                     | AsDtype('bool')\n",
      "label_Hgg            | bool                     | AsDtype('bool')\n",
      "label_H4q            | bool                     | AsDtype('bool')\n",
      "label_Hqql           | bool                     | AsDtype('bool')\n",
      "label_Zqq            | int32_t                  | AsDtype('>i4')\n",
      "label_Wqq            | int32_t                  | AsDtype('>i4')\n",
      "label_Tbqq           | int32_t                  | AsDtype('>i4')\n",
      "label_Tbl            | int32_t                  | AsDtype('>i4')\n",
      "jet_pt               | float                    | AsDtype('>f4')\n",
      "jet_eta              | float                    | AsDtype('>f4')\n",
      "jet_phi              | float                    | AsDtype('>f4')\n",
      "jet_energy           | float                    | AsDtype('>f4')\n",
      "jet_nparticles       | float                    | AsDtype('>f4')\n",
      "jet_sdmass           | float                    | AsDtype('>f4')\n",
      "jet_tau1             | float                    | AsDtype('>f4')\n",
      "jet_tau2             | float                    | AsDtype('>f4')\n",
      "jet_tau3             | float                    | AsDtype('>f4')\n",
      "jet_tau4             | float                    | AsDtype('>f4')\n",
      "aux_genpart_eta      | float                    | AsDtype('>f4')\n",
      "aux_genpart_phi      | float                    | AsDtype('>f4')\n",
      "aux_genpart_pid      | float                    | AsDtype('>f4')\n",
      "aux_genpart_pt       | float                    | AsDtype('>f4')\n",
      "aux_truth_match      | float                    | AsDtype('>f4')\n"
     ]
    }
   ],
   "source": [
    "# Display the content of the \"tree\"\n",
    "tree.show()"
   ]
  },
  {
   "cell_type": "code",
   "execution_count": 12,
   "metadata": {},
   "outputs": [
    {
     "name": "stdout",
     "output_type": "stream",
     "text": [
      "name                 | typename                 | interpretation                \n",
      "---------------------+--------------------------+-------------------------------\n",
      "label_QCD            | float                    | AsDtype('>f4')\n",
      "label_Hbb            | bool                     | AsDtype('bool')\n",
      "label_Hcc            | bool                     | AsDtype('bool')\n",
      "label_Hgg            | bool                     | AsDtype('bool')\n",
      "label_H4q            | bool                     | AsDtype('bool')\n",
      "label_Hqql           | bool                     | AsDtype('bool')\n",
      "label_Zqq            | int32_t                  | AsDtype('>i4')\n",
      "label_Wqq            | int32_t                  | AsDtype('>i4')\n",
      "label_Tbqq           | int32_t                  | AsDtype('>i4')\n",
      "label_Tbl            | int32_t                  | AsDtype('>i4')\n"
     ]
    }
   ],
   "source": [
    "tree.show(filter_name='label_*')"
   ]
  },
  {
   "cell_type": "code",
   "execution_count": 13,
   "metadata": {},
   "outputs": [
    {
     "name": "stdout",
     "output_type": "stream",
     "text": [
      "name                 | typename                 | interpretation                \n",
      "---------------------+--------------------------+-------------------------------\n",
      "jet_pt               | float                    | AsDtype('>f4')\n",
      "jet_eta              | float                    | AsDtype('>f4')\n",
      "jet_phi              | float                    | AsDtype('>f4')\n",
      "jet_energy           | float                    | AsDtype('>f4')\n",
      "jet_nparticles       | float                    | AsDtype('>f4')\n",
      "jet_sdmass           | float                    | AsDtype('>f4')\n",
      "jet_tau1             | float                    | AsDtype('>f4')\n",
      "jet_tau2             | float                    | AsDtype('>f4')\n",
      "jet_tau3             | float                    | AsDtype('>f4')\n",
      "jet_tau4             | float                    | AsDtype('>f4')\n"
     ]
    }
   ],
   "source": [
    "tree.show(filter_name='jet_*')"
   ]
  },
  {
   "cell_type": "code",
   "execution_count": 14,
   "metadata": {},
   "outputs": [
    {
     "name": "stdout",
     "output_type": "stream",
     "text": [
      "name                 | typename                 | interpretation                \n",
      "---------------------+--------------------------+-------------------------------\n",
      "part_px              | std::vector<float>       | AsJagged(AsDtype('>f4'), he...\n",
      "part_py              | std::vector<float>       | AsJagged(AsDtype('>f4'), he...\n",
      "part_pz              | std::vector<float>       | AsJagged(AsDtype('>f4'), he...\n",
      "part_energy          | std::vector<float>       | AsJagged(AsDtype('>f4'), he...\n",
      "part_deta            | std::vector<float>       | AsJagged(AsDtype('>f4'), he...\n",
      "part_dphi            | std::vector<float>       | AsJagged(AsDtype('>f4'), he...\n",
      "part_d0val           | std::vector<float>       | AsJagged(AsDtype('>f4'), he...\n",
      "part_d0err           | std::vector<float>       | AsJagged(AsDtype('>f4'), he...\n",
      "part_dzval           | std::vector<float>       | AsJagged(AsDtype('>f4'), he...\n",
      "part_dzerr           | std::vector<float>       | AsJagged(AsDtype('>f4'), he...\n",
      "part_charge          | std::vector<float>       | AsJagged(AsDtype('>f4'), he...\n",
      "part_isChargedHadron | std::vector<int32_t>     | AsJagged(AsDtype('>i4'), he...\n",
      "part_isNeutralHadron | std::vector<int32_t>     | AsJagged(AsDtype('>i4'), he...\n",
      "part_isPhoton        | std::vector<int32_t>     | AsJagged(AsDtype('>i4'), he...\n",
      "part_isElectron      | std::vector<int32_t>     | AsJagged(AsDtype('>i4'), he...\n",
      "part_isMuon          | std::vector<int32_t>     | AsJagged(AsDtype('>i4'), he...\n"
     ]
    }
   ],
   "source": [
    "tree.show(filter_name='part_*')"
   ]
  },
  {
   "cell_type": "code",
   "execution_count": 15,
   "metadata": {},
   "outputs": [],
   "source": [
    "# Load all arrays in the tree\n",
    "# Each array is a column of the table\n",
    "table = tree.arrays()"
   ]
  },
  {
   "cell_type": "code",
   "execution_count": null,
   "metadata": {},
   "outputs": [],
   "source": []
  },
  {
   "cell_type": "code",
   "execution_count": 16,
   "metadata": {},
   "outputs": [
    {
     "data": {
      "text/plain": [
       "array([False, False, False, ..., False, False, False])"
      ]
     },
     "execution_count": 16,
     "metadata": {},
     "output_type": "execute_result"
    }
   ],
   "source": [
    "# Arrays of a scalar type (bool/int/float) can be converted to a numpy array directly, e.g.\n",
    "table['label_Hcc'].to_numpy()"
   ]
  },
  {
   "cell_type": "code",
   "execution_count": 17,
   "metadata": {},
   "outputs": [
    {
     "data": {
      "text/plain": [
       "(array([40000, 40001, 40002, ..., 49997, 49998, 49999]),)"
      ]
     },
     "execution_count": 17,
     "metadata": {},
     "output_type": "execute_result"
    }
   ],
   "source": [
    "np.where(table['label_H4q'].to_numpy()!=0)"
   ]
  },
  {
   "cell_type": "code",
   "execution_count": 18,
   "metadata": {},
   "outputs": [
    {
     "data": {
      "text/html": [
       "<pre>[38,\n",
       " 30,\n",
       " 39,\n",
       " 32,\n",
       " 45,\n",
       " 42,\n",
       " 41,\n",
       " 49,\n",
       " 49,\n",
       " 24,\n",
       " ...,\n",
       " 22,\n",
       " 29,\n",
       " 32,\n",
       " 52,\n",
       " 49,\n",
       " 30,\n",
       " 27,\n",
       " 31,\n",
       " 42]\n",
       "----------------------\n",
       "type: 100000 * float32</pre>"
      ],
      "text/plain": [
       "<Array [38, 30, 39, 32, 45, ..., 49, 30, 27, 31, 42] type='100000 * float32'>"
      ]
     },
     "execution_count": 18,
     "metadata": {},
     "output_type": "execute_result"
    }
   ],
   "source": [
    "table['jet_nparticles']"
   ]
  },
  {
   "cell_type": "code",
   "execution_count": 20,
   "metadata": {},
   "outputs": [],
   "source": [
    "feat_list = [ak.flatten(table[part_feat][1000:1001]).to_numpy() for part_feat in tree.keys(filter_name='part_*')]"
   ]
  },
  {
   "cell_type": "code",
   "execution_count": 21,
   "metadata": {},
   "outputs": [
    {
     "data": {
      "text/plain": [
       "((42, 16), 16)"
      ]
     },
     "execution_count": 21,
     "metadata": {},
     "output_type": "execute_result"
    }
   ],
   "source": [
    "np.stack(feat_list).T.shape, len(tree.keys(filter_name='part_*'))"
   ]
  },
  {
   "cell_type": "code",
   "execution_count": 22,
   "metadata": {},
   "outputs": [],
   "source": [
    "# Construct a Lorentz 4-vector from the (px, py, pz, energy) arrays\n",
    "p4 = vector.zip({'px': table['part_px'], 'py': table['part_py'], 'pz': table['part_pz'], 'energy': table['part_energy']})"
   ]
  },
  {
   "cell_type": "code",
   "execution_count": 23,
   "metadata": {},
   "outputs": [
    {
     "data": {
      "text/html": [
       "<pre>[[0.0442, 0, 0, 0.0221, -0.0221, ..., 0.000488, 0, 0, -0.000345, 0.000345],\n",
       " [0, 0.133, 0, 0.139, 0.14, ..., -0.000488, -0.000488, 0.000488, 0.494],\n",
       " [0, 0, 0.0156, 0, 0, 0.0156, ..., 0, 0.14, 0.14, -0.00138, 0.000977, 0.14],\n",
       " [0.177, 0.0884, 0.125, 0.133, 0.14, ..., 0, 0, 0, -0.000977, 0.000691],\n",
       " [0.125, 0.493, 0, 0, -0.011, ..., 0, 0.000488, -0.000488, -0.000488, 0.000488],\n",
       " [-0.0884, 0, 0.0442, 0.104, 0.492, ..., -0.000488, 0, 0.938, -0.000691, 0.14],\n",
       " [0, 0, 0.139, 0.139, 0.139, 0, ..., 0.14, 0.14, 0.000691, 0.494, 0, 0.000488],\n",
       " [-0.0221, 0.0312, -0.0312, 0.141, ..., -0.000488, 0.000488, -0.000345],\n",
       " [0, 0.14, 0, -0.011, 0.938, 0.494, 0.0156, ..., 0, 0.14, 0, 0.000488, 0, 0],\n",
       " [0.125, 0.0312, 0.14, 0.494, -0.0156, 0.139, ..., 0.14, 0, 0.00138, 0, 0],\n",
       " ...,\n",
       " [0.153, 0.133, 0, -0.011, 0.14, 0.14, ..., -0.000691, 0.14, 0, -0.000488, 0],\n",
       " [0, 0.0312, 0.495, 0.14, 0.141, ..., 0.000977, 0.14, 0, -0.000691, 0.000691],\n",
       " [0.125, 0.153, -0.0625, 0, 0, 0.14, ..., 0.00138, 0.00138, 0.14, 0.14, 0.14],\n",
       " [0.0221, 0.0156, 0.139, 0.011, 0.494, ..., -0.000691, 0.000488, 0, 0.000345],\n",
       " [0.14, -0.0312, 0.494, 0, -0.011, 0.494, 0.494, ..., 0, 0, 0, 0, -0.000488, 0],\n",
       " [0.0312, 0, 0.495, 0.139, 0.139, 0.011, ..., 0.14, 0, 0, -0.000488, -0.000244],\n",
       " [-0.0625, 0, 0, 0.139, 0.14, ..., 0.00138, -0.000977, 0.14, 0.14, 0.000691],\n",
       " [0.14, 0.14, 0.14, 0.14, 0.011, 0.00552, ..., -0.000977, 0, 0, 0.000488, 0],\n",
       " [-0.0625, 0.14, 0.0312, 0.139, 0.494, 0.494, ..., 0, 0, 0.14, 0, 0, 0.000345]]\n",
       "--------------------------------------------------------------------------------\n",
       "type: 100000 * var * float32</pre>"
      ],
      "text/plain": [
       "<Array [[0.0442, 0, ..., 0.000345], ..., [...]] type='100000 * var * float32'>"
      ]
     },
     "execution_count": 23,
     "metadata": {},
     "output_type": "execute_result"
    }
   ],
   "source": [
    "p4.mass"
   ]
  },
  {
   "cell_type": "code",
   "execution_count": 20,
   "metadata": {},
   "outputs": [
    {
     "data": {
      "text/plain": [
       "(17.975435, 22.76201)"
      ]
     },
     "execution_count": 20,
     "metadata": {},
     "output_type": "execute_result"
    }
   ],
   "source": [
    "idx=12000\n",
    "ak.flatten(p4.pt[idx:idx+1]).to_numpy().mean(), ak.flatten(p4.pt[idx:idx+1]).to_numpy().std()"
   ]
  },
  {
   "cell_type": "code",
   "execution_count": 21,
   "metadata": {},
   "outputs": [
    {
     "data": {
      "text/plain": [
       "(-1.5115892, 0.14769214)"
      ]
     },
     "execution_count": 21,
     "metadata": {},
     "output_type": "execute_result"
    }
   ],
   "source": [
    "ak.flatten(p4.phi[idx:idx+1]).to_numpy().mean(), ak.flatten(p4.phi[idx:idx+1]).to_numpy().std()"
   ]
  },
  {
   "cell_type": "code",
   "execution_count": 24,
   "metadata": {},
   "outputs": [],
   "source": [
    "jet_sdmass = table['jet_sdmass'].to_numpy()"
   ]
  },
  {
   "cell_type": "code",
   "execution_count": 25,
   "metadata": {},
   "outputs": [],
   "source": [
    "jet_sdmass_H = jet_sdmass[np.where(table['label_Hbb'].to_numpy()!=0)]\n",
    "jet_sdmass_T = jet_sdmass[np.where(table['label_Tbqq'].to_numpy()!=0)]"
   ]
  },
  {
   "cell_type": "code",
   "execution_count": 26,
   "metadata": {},
   "outputs": [
    {
     "data": {
      "text/plain": [
       "array([ 91.98812,  17.3149 , 124.49392, ..., 150.37427, 140.32726,\n",
       "       131.21666], dtype=float32)"
      ]
     },
     "execution_count": 26,
     "metadata": {},
     "output_type": "execute_result"
    }
   ],
   "source": [
    "jet_sdmass_H"
   ]
  },
  {
   "cell_type": "code",
   "execution_count": 27,
   "metadata": {},
   "outputs": [
    {
     "data": {
      "image/png": "[encoded data removed]",
      "text/plain": [
       "<Figure size 640x480 with 1 Axes>"
      ]
     },
     "metadata": {},
     "output_type": "display_data"
    }
   ],
   "source": [
    "import matplotlib.pyplot as plt\n",
    "plt.hist(jet_sdmass_H, bins=np.linspace(0, 400, 50), label='Higgs', color='red', histtype='step', linewidth=2.)\n",
    "plt.hist(jet_sdmass_T, bins=np.linspace(0, 400, 50), label='Top', color='blue', histtype='step', linewidth=2.)\n",
    "plt.xlabel('Jet mass [GeV]')\n",
    "plt.legend()\n",
    "plt.show()"
   ]
  },
  {
   "cell_type": "markdown",
   "metadata": {},
   "source": [
    "# Let's create a jet dataset "
   ]
  },
  {
   "cell_type": "code",
   "execution_count": 28,
   "metadata": {},
   "outputs": [],
   "source": [
    "class Jet_Dataset(data.Dataset):\n",
    "\n",
    "    def __init__(self, dataset_path:str, tree_name:str = 'tree') -> None:\n",
    "        \"\"\"\n",
    "        Inputs:\n",
    "            size - Number of data points we want to generate\n",
    "            std - Standard deviation of the noise (see generate_continuous_xor function)\n",
    "        \"\"\"\n",
    "        super().__init__()\n",
    "        \n",
    "        \n",
    "        self.dataset = uproot.open(dataset_path)\n",
    "        self.tree = self.dataset[tree_name].arrays()\n",
    "        \n",
    "        self.num_entries = self.dataset[tree_name].num_entries\n",
    "        \n",
    "        self.part_feat = self.dataset[tree_name].keys(filter_name='part_*')\n",
    "        self.jet_feat = self.dataset[tree_name].keys(filter_name='jet_*')\n",
    "        self.labels = self.dataset[tree_name].keys(filter_name='labels_*')\n",
    "        \n",
    "        \n",
    "        #self.pc_dataset = [ self.transform_jet_to_point_cloud(idx) for idx in range(self.num_entries-1) ]\n",
    "        \n",
    "\n",
    "    def transform_jet_to_point_cloud(self, idx:int) -> dict :\n",
    "    \n",
    "        npart = self.tree['jet_nparticles'].to_numpy()[idx:idx+1]\n",
    "        \n",
    "        part_feat_list = [ak.flatten(self.tree[part_feat][idx:idx+1]).to_numpy() for part_feat in self.part_feat]\n",
    "        \n",
    "        jet_pt = self.tree['jet_pt'].to_numpy()[idx:idx+1]\n",
    "        jet_eta = self.tree['jet_eta'].to_numpy()[idx:idx+1]\n",
    "        jet_phi = self.tree['jet_phi'].to_numpy()[idx:idx+1]\n",
    "        jet_energy = self.tree['jet_energy'].to_numpy()[idx:idx+1]\n",
    "        jet_tau21 = self.tree['jet_tau2'].to_numpy()[idx:idx+1]/self.tree['jet_tau1'].to_numpy()[idx:idx+1]\n",
    "        jet_tau32 = self.tree['jet_tau3'].to_numpy()[idx:idx+1]/self.tree['jet_tau2'].to_numpy()[idx:idx+1]\n",
    "        jet_tau43 = self.tree['jet_tau4'].to_numpy()[idx:idx+1]/self.tree['jet_tau3'].to_numpy()[idx:idx+1]\n",
    "        \n",
    "        \n",
    "        jet_sd_mass = self.tree['jet_sdmass'].to_numpy()[idx:idx+1]\n",
    "        \n",
    "        jet_feat = np.stack([jet_pt, jet_eta, jet_phi, jet_energy, jet_tau21, jet_tau32, jet_tau43]).T\n",
    "              \n",
    "        jet_feat = np.repeat(jet_feat, int(npart), axis=0)\n",
    "             \n",
    "        part_feat = np.stack(part_feat_list).T\n",
    "        \n",
    "        total_jet_feat = np.concatenate((part_feat, jet_feat), axis=-1)\n",
    "        total_jet_feat[np.isnan(total_jet_feat)] = 0.\n",
    "        \n",
    "        #print(type(total_jet_feat), 'total_jet_feat shape : ', total_jet_feat.shape)\n",
    "        \n",
    "        jet_class = -1\n",
    "        \n",
    "        if(self.tree['label_QCD'].to_numpy()[idx:idx+1] == 1) : jet_class = 0\n",
    "        \n",
    "        if( (self.tree['label_Tbqq'].to_numpy()[idx:idx+1] == 1) or\n",
    "            (self.tree['label_Tbl'].to_numpy()[idx:idx+1] == 1)) : jet_class = 3\n",
    "        \n",
    "        if( (self.tree['label_Zqq'].to_numpy()[idx:idx+1] == 1) or\n",
    "            (self.tree['label_Wqq'].to_numpy()[idx:idx+1] == 1)) : jet_class = 2\n",
    "        \n",
    "        if( (self.tree['label_Hbb'].to_numpy()[idx:idx+1] == True) or\n",
    "            (self.tree['label_Hcc'].to_numpy()[idx:idx+1] == True) or\n",
    "            (self.tree['label_Hgg'].to_numpy()[idx:idx+1] == True) or\n",
    "            (self.tree['label_H4q'].to_numpy()[idx:idx+1] == True) or\n",
    "            (self.tree['label_Hqql'].to_numpy()[idx:idx+1] == True) ) : jet_class = 1\n",
    "        \n",
    "        return {'jet' : torch.tensor(total_jet_feat), 'label' : torch.tensor([jet_class]), 'seq_length' : torch.tensor(npart),\n",
    "                'sd_mass' : torch.tensor(jet_sd_mass) \n",
    "                }     \n",
    "        \n",
    "\n",
    "    def __len__(self) -> int:\n",
    "        # Number of data point we have. Alternatively self.data.shape[0], or self.label.shape[0]\n",
    "        return self.num_entries#len(self.pc_dataset)\n",
    "    \n",
    "    def __getitem__(self, idx:int) -> dict :\n",
    "        # Return the idx-th data point of the dataset\n",
    "    \n",
    "        return self.transform_jet_to_point_cloud(idx)#self.pc_dataset[idx]#data_point, data_label\n"
   ]
  },
  {
   "cell_type": "code",
   "execution_count": 29,
   "metadata": {},
   "outputs": [],
   "source": [
    "jet_dataset = Jet_Dataset(dataset_path=example_file)"
   ]
  },
  {
   "cell_type": "code",
   "execution_count": 30,
   "metadata": {},
   "outputs": [
    {
     "data": {
      "text/plain": [
       "100000"
      ]
     },
     "execution_count": 30,
     "metadata": {},
     "output_type": "execute_result"
    }
   ],
   "source": [
    "len(jet_dataset)"
   ]
  },
  {
   "cell_type": "code",
   "execution_count": 31,
   "metadata": {},
   "outputs": [
    {
     "data": {
      "text/plain": [
       "tensor([1])"
      ]
     },
     "execution_count": 31,
     "metadata": {},
     "output_type": "execute_result"
    }
   ],
   "source": [
    "jet_dataset[16883]['label']"
   ]
  },
  {
   "cell_type": "code",
   "execution_count": 32,
   "metadata": {},
   "outputs": [],
   "source": [
    "def create_batch(data_list : list) -> tuple : \n",
    "    \n",
    "    max_length = np.max([ int( data_list[idx]['seq_length'].item() ) for idx in range(len(data_list))  ])\n",
    "    # print(max_length)\n",
    "    pc_list, label_list = [], [] \n",
    "    \n",
    "    for idx in range(len(data_list)) : \n",
    "        \n",
    "        \n",
    "        pc, label = data_list[idx]['jet'], data_list[idx]['label']\n",
    "        \n",
    "        N, C = pc.shape[0], pc.shape[1]\n",
    "        \n",
    "        pc_padded = torch.zeros([1, max_length, C])\n",
    "        \n",
    "        pc = pc.reshape(1, N, C) # (N, C) -> (1, N, C)\n",
    "        \n",
    "        pc_padded[:, 0 : N, :   ] = pc[:,:,:] # \n",
    "        \n",
    "        pc_list.append(pc_padded)\n",
    "        label_list.append( torch.tensor([label]) )\n",
    "    \n",
    "\n",
    "    return torch.cat(pc_list, dim=0), torch.cat(label_list, dim=0)"
   ]
  },
  {
   "cell_type": "code",
   "execution_count": 33,
   "metadata": {},
   "outputs": [],
   "source": [
    "jet_dataloader = data.DataLoader(dataset=jet_dataset, batch_size=5, shuffle=True, collate_fn=create_batch)\n"
   ]
  },
  {
   "cell_type": "code",
   "execution_count": 34,
   "metadata": {},
   "outputs": [],
   "source": [
    "jet_data, labels = next(iter(jet_dataloader))"
   ]
  },
  {
   "cell_type": "code",
   "execution_count": 35,
   "metadata": {},
   "outputs": [
    {
     "data": {
      "text/plain": [
       "torch.Size([5, 40, 23])"
      ]
     },
     "execution_count": 35,
     "metadata": {},
     "output_type": "execute_result"
    }
   ],
   "source": [
    "jet_data.shape"
   ]
  },
  {
   "cell_type": "code",
   "execution_count": 36,
   "metadata": {},
   "outputs": [],
   "source": [
    "from modules.deepsets import DeepSet"
   ]
  },
  {
   "cell_type": "code",
   "execution_count": 37,
   "metadata": {},
   "outputs": [],
   "source": [
    "model = DeepSet(in_features=23, feats=[25, 20, 15, 10, 6], n_class=4)\n",
    "model = model.to(device)"
   ]
  },
  {
   "cell_type": "code",
   "execution_count": 38,
   "metadata": {},
   "outputs": [],
   "source": [
    "y = model(jet_data.to(device))"
   ]
  },
  {
   "cell_type": "code",
   "execution_count": 39,
   "metadata": {},
   "outputs": [
    {
     "data": {
      "text/plain": [
       "(torch.Size([5, 4]), torch.Size([5]))"
      ]
     },
     "execution_count": 39,
     "metadata": {},
     "output_type": "execute_result"
    }
   ],
   "source": [
    "y.shape, labels.shape"
   ]
  },
  {
   "cell_type": "markdown",
   "metadata": {},
   "source": [
    "## creating the training block"
   ]
  },
  {
   "cell_type": "code",
   "execution_count": 45,
   "metadata": {},
   "outputs": [],
   "source": [
    "def train(model, device, train_loader, optimizer):\n",
    "    \n",
    "    train_loss_ep = 0.\n",
    "    \n",
    "    model.train()\n",
    "    #for batch_idx, (data, target) in enumerate(train_loader):\n",
    "    with tqdm.tqdm(train_loader, ascii=True) as tq:\n",
    "        for data, target in tq:\n",
    "            data, target = data.to(device), target.to(device)\n",
    "            optimizer.zero_grad()\n",
    "            output = model(data)\n",
    "            loss = F.nll_loss(output, target)\n",
    "            loss.backward()\n",
    "            optimizer.step()\n",
    "            \n",
    "            train_loss_ep += loss.item() * data.size(0)\n",
    "        \n",
    "    return train_loss_ep"
   ]
  },
  {
   "cell_type": "markdown",
   "metadata": {},
   "source": [
    "## create the testing block"
   ]
  },
  {
   "cell_type": "code",
   "execution_count": 46,
   "metadata": {},
   "outputs": [],
   "source": [
    "def test(model, device, test_loader):\n",
    "    \n",
    "    test_loss_ep = 0.\n",
    "    \n",
    "    model.eval()\n",
    "    #for batch_idx, (data, target) in enumerate(test_loader):\n",
    "    with tqdm.tqdm(train_loader, ascii=True) as tq:\n",
    "        for data, target in tq:\n",
    "            data, target = data.to(device), target.to(device)\n",
    "            \n",
    "            output = model(data)\n",
    "            loss = F.nll_loss(output, target)\n",
    "            \n",
    "            test_loss_ep += loss.item() * data.size(0)\n",
    "        \n",
    "    return test_loss_ep"
   ]
  },
  {
   "cell_type": "markdown",
   "metadata": {},
   "source": [
    "# Let's prepare the full dataset and dataloaders"
   ]
  },
  {
   "cell_type": "code",
   "execution_count": 41,
   "metadata": {},
   "outputs": [
    {
     "name": "stdout",
     "output_type": "stream",
     "text": [
      "60000 20000\n"
     ]
    }
   ],
   "source": [
    "# number of subprocesses to use for data loading\n",
    "num_workers = 0\n",
    "# how many samples per batch to load\n",
    "batch_size = 5\n",
    "# percentage of training set to use as validation\n",
    "train_size, valid_size = 0.6, 0.2\n",
    "# # convert data to torch.FloatTensor\n",
    "# transform = transforms.ToTensor()\n",
    "# choose the training and testing datasets\n",
    "# obtain training indices that will be used for validation\n",
    "jet_dataset = Jet_Dataset(dataset_path=example_file)\n",
    "num_train = len(jet_dataset)\n",
    "indices = list(range(num_train))\n",
    "np.random.shuffle(indices)\n",
    "train_split = int(np.floor(train_size * num_train))\n",
    "valid_split = int(np.floor(valid_size * num_train))\n",
    "\n",
    "print(train_split, valid_split)\n",
    "train_index, valid_index, test_index = indices[0:train_split], indices[train_split:train_split + valid_split], indices[train_split + valid_split:]\n",
    "# define samplers for obtaining training and validation batches\n",
    "train_sampler = SubsetRandomSampler(train_index)\n",
    "valid_sampler = SubsetRandomSampler(valid_index)\n",
    "test_sampler = SubsetRandomSampler(test_index)\n",
    "# prepare data loaders\n",
    "train_loader = data.DataLoader(dataset=jet_dataset, batch_size = batch_size, \n",
    "                                           num_workers = num_workers, sampler = train_sampler, collate_fn=create_batch)\n",
    "valid_loader = data.DataLoader(dataset=jet_dataset, batch_size = batch_size,\n",
    "                                          num_workers = num_workers,  sampler = valid_sampler, collate_fn=create_batch)\n",
    "test_loader = data.DataLoader(dataset=jet_dataset, batch_size = batch_size,\n",
    "                                          num_workers = num_workers,  sampler = test_sampler, collate_fn=create_batch)"
   ]
  },
  {
   "cell_type": "code",
   "execution_count": 42,
   "metadata": {},
   "outputs": [],
   "source": [
    "# - Define the optimizer --- #\n",
    "optimizer = torch.optim.SGD(model.parameters(),lr = 0.01)"
   ]
  },
  {
   "cell_type": "markdown",
   "metadata": {},
   "source": [
    "## Run the training loop "
   ]
  },
  {
   "cell_type": "code",
   "execution_count": 47,
   "metadata": {},
   "outputs": [
    {
     "name": "stderr",
     "output_type": "stream",
     "text": [
      " 11%|#1        | 1366/12000 [00:56<06:33, 27.03it/s]/var/folders/27/j7vqc09s6999lx6q2v5txbrm0000gn/T/ipykernel_41598/1360868746.py:37: RuntimeWarning: invalid value encountered in divide\n",
      "  jet_tau43 = self.tree['jet_tau4'].to_numpy()[idx:idx+1]/self.tree['jet_tau3'].to_numpy()[idx:idx+1]\n",
      "100%|##########| 12000/12000 [07:51<00:00, 25.46it/s]\n",
      "100%|##########| 12000/12000 [06:54<00:00, 28.92it/s]\n"
     ]
    },
    {
     "name": "stdout",
     "output_type": "stream",
     "text": [
      "Epoch: 1 \tTraining Loss: 1.190942 \tValidation Loss: 3.537704\n",
      "Validation loss decreased (inf --> 3.537704).  Saving model ...\n"
     ]
    },
    {
     "name": "stderr",
     "output_type": "stream",
     "text": [
      "100%|##########| 12000/12000 [18:26<00:00, 10.85it/s]  \n",
      "100%|##########| 12000/12000 [06:45<00:00, 29.62it/s]\n"
     ]
    },
    {
     "name": "stdout",
     "output_type": "stream",
     "text": [
      "Epoch: 2 \tTraining Loss: 1.173705 \tValidation Loss: 3.514536\n",
      "Validation loss decreased (3.537704 --> 3.514536).  Saving model ...\n"
     ]
    },
    {
     "name": "stderr",
     "output_type": "stream",
     "text": [
      "100%|##########| 12000/12000 [07:29<00:00, 26.69it/s]\n",
      "100%|##########| 12000/12000 [06:37<00:00, 30.22it/s]\n"
     ]
    },
    {
     "name": "stdout",
     "output_type": "stream",
     "text": [
      "Epoch: 3 \tTraining Loss: 1.164619 \tValidation Loss: 3.490329\n",
      "Validation loss decreased (3.514536 --> 3.490329).  Saving model ...\n"
     ]
    },
    {
     "name": "stderr",
     "output_type": "stream",
     "text": [
      "100%|##########| 12000/12000 [07:50<00:00, 25.49it/s]\n",
      "100%|##########| 12000/12000 [07:03<00:00, 28.35it/s]\n"
     ]
    },
    {
     "name": "stdout",
     "output_type": "stream",
     "text": [
      "Epoch: 4 \tTraining Loss: 1.161300 \tValidation Loss: 3.464391\n",
      "Validation loss decreased (3.490329 --> 3.464391).  Saving model ...\n"
     ]
    },
    {
     "name": "stderr",
     "output_type": "stream",
     "text": [
      "100%|##########| 12000/12000 [07:54<00:00, 25.32it/s]\n",
      "100%|##########| 12000/12000 [06:48<00:00, 29.39it/s]\n"
     ]
    },
    {
     "name": "stdout",
     "output_type": "stream",
     "text": [
      "Epoch: 5 \tTraining Loss: 1.159934 \tValidation Loss: 3.497932\n"
     ]
    },
    {
     "name": "stderr",
     "output_type": "stream",
     "text": [
      "100%|##########| 12000/12000 [08:08<00:00, 24.58it/s]\n",
      "100%|##########| 12000/12000 [06:47<00:00, 29.48it/s]\n"
     ]
    },
    {
     "name": "stdout",
     "output_type": "stream",
     "text": [
      "Epoch: 6 \tTraining Loss: 1.159226 \tValidation Loss: 3.465642\n"
     ]
    },
    {
     "name": "stderr",
     "output_type": "stream",
     "text": [
      "100%|##########| 12000/12000 [07:47<00:00, 25.69it/s]\n",
      "100%|##########| 12000/12000 [06:36<00:00, 30.29it/s]\n"
     ]
    },
    {
     "name": "stdout",
     "output_type": "stream",
     "text": [
      "Epoch: 7 \tTraining Loss: 1.156917 \tValidation Loss: 3.496719\n"
     ]
    },
    {
     "name": "stderr",
     "output_type": "stream",
     "text": [
      "100%|##########| 12000/12000 [07:43<00:00, 25.86it/s]\n",
      "100%|##########| 12000/12000 [06:50<00:00, 29.20it/s]\n"
     ]
    },
    {
     "name": "stdout",
     "output_type": "stream",
     "text": [
      "Epoch: 8 \tTraining Loss: 1.157089 \tValidation Loss: 3.474123\n"
     ]
    },
    {
     "name": "stderr",
     "output_type": "stream",
     "text": [
      "100%|##########| 12000/12000 [07:52<00:00, 25.37it/s]\n",
      "100%|##########| 12000/12000 [06:36<00:00, 30.28it/s]\n"
     ]
    },
    {
     "name": "stdout",
     "output_type": "stream",
     "text": [
      "Epoch: 9 \tTraining Loss: 1.156283 \tValidation Loss: 3.460565\n",
      "Validation loss decreased (3.464391 --> 3.460565).  Saving model ...\n"
     ]
    },
    {
     "name": "stderr",
     "output_type": "stream",
     "text": [
      "100%|##########| 12000/12000 [07:56<00:00, 25.21it/s]\n",
      "100%|##########| 12000/12000 [06:40<00:00, 29.93it/s]\n"
     ]
    },
    {
     "name": "stdout",
     "output_type": "stream",
     "text": [
      "Epoch: 10 \tTraining Loss: 1.154202 \tValidation Loss: 3.463111\n"
     ]
    },
    {
     "name": "stderr",
     "output_type": "stream",
     "text": [
      "100%|##########| 12000/12000 [07:48<00:00, 25.61it/s]\n",
      "100%|##########| 12000/12000 [06:37<00:00, 30.19it/s]\n"
     ]
    },
    {
     "name": "stdout",
     "output_type": "stream",
     "text": [
      "Epoch: 11 \tTraining Loss: 1.153623 \tValidation Loss: 3.453419\n",
      "Validation loss decreased (3.460565 --> 3.453419).  Saving model ...\n"
     ]
    },
    {
     "name": "stderr",
     "output_type": "stream",
     "text": [
      "100%|##########| 12000/12000 [07:39<00:00, 26.12it/s]\n",
      "100%|##########| 12000/12000 [06:50<00:00, 29.27it/s]\n"
     ]
    },
    {
     "name": "stdout",
     "output_type": "stream",
     "text": [
      "Epoch: 12 \tTraining Loss: 1.153132 \tValidation Loss: 3.439516\n",
      "Validation loss decreased (3.453419 --> 3.439516).  Saving model ...\n"
     ]
    },
    {
     "name": "stderr",
     "output_type": "stream",
     "text": [
      "100%|##########| 12000/12000 [07:57<00:00, 25.12it/s]\n",
      "100%|##########| 12000/12000 [06:50<00:00, 29.24it/s]\n"
     ]
    },
    {
     "name": "stdout",
     "output_type": "stream",
     "text": [
      "Epoch: 13 \tTraining Loss: 1.152468 \tValidation Loss: 3.466441\n"
     ]
    },
    {
     "name": "stderr",
     "output_type": "stream",
     "text": [
      "100%|##########| 12000/12000 [07:48<00:00, 25.59it/s]\n",
      "100%|##########| 12000/12000 [06:57<00:00, 28.76it/s]\n"
     ]
    },
    {
     "name": "stdout",
     "output_type": "stream",
     "text": [
      "Epoch: 14 \tTraining Loss: 1.152323 \tValidation Loss: 3.456443\n"
     ]
    },
    {
     "name": "stderr",
     "output_type": "stream",
     "text": [
      "100%|##########| 12000/12000 [07:54<00:00, 25.28it/s]\n",
      "100%|##########| 12000/12000 [06:49<00:00, 29.27it/s]\n"
     ]
    },
    {
     "name": "stdout",
     "output_type": "stream",
     "text": [
      "Epoch: 15 \tTraining Loss: 1.150017 \tValidation Loss: 3.468603\n"
     ]
    },
    {
     "name": "stderr",
     "output_type": "stream",
     "text": [
      "100%|##########| 12000/12000 [08:00<00:00, 24.99it/s]\n",
      "100%|##########| 12000/12000 [06:43<00:00, 29.71it/s]\n"
     ]
    },
    {
     "name": "stdout",
     "output_type": "stream",
     "text": [
      "Epoch: 16 \tTraining Loss: 1.150506 \tValidation Loss: 3.457710\n"
     ]
    },
    {
     "name": "stderr",
     "output_type": "stream",
     "text": [
      "100%|##########| 12000/12000 [08:06<00:00, 24.69it/s]\n",
      "100%|##########| 12000/12000 [07:15<00:00, 27.55it/s]\n"
     ]
    },
    {
     "name": "stdout",
     "output_type": "stream",
     "text": [
      "Epoch: 17 \tTraining Loss: 1.148725 \tValidation Loss: 3.444675\n"
     ]
    },
    {
     "name": "stderr",
     "output_type": "stream",
     "text": [
      "100%|##########| 12000/12000 [11:20<00:00, 17.64it/s]\n",
      "100%|##########| 12000/12000 [55:15<00:00,  3.62it/s]   \n"
     ]
    },
    {
     "name": "stdout",
     "output_type": "stream",
     "text": [
      "Epoch: 18 \tTraining Loss: 1.148848 \tValidation Loss: 3.427359\n",
      "Validation loss decreased (3.439516 --> 3.427359).  Saving model ...\n"
     ]
    },
    {
     "name": "stderr",
     "output_type": "stream",
     "text": [
      "100%|##########| 12000/12000 [11:02<00:00, 18.11it/s]  \n",
      "100%|##########| 12000/12000 [08:01<00:00, 24.92it/s] \n"
     ]
    },
    {
     "name": "stdout",
     "output_type": "stream",
     "text": [
      "Epoch: 19 \tTraining Loss: 1.155505 \tValidation Loss: 3.488835\n"
     ]
    },
    {
     "name": "stderr",
     "output_type": "stream",
     "text": [
      "100%|##########| 12000/12000 [07:50<00:00, 25.49it/s]\n",
      "100%|##########| 12000/12000 [06:49<00:00, 29.29it/s]"
     ]
    },
    {
     "name": "stdout",
     "output_type": "stream",
     "text": [
      "Epoch: 20 \tTraining Loss: 1.150035 \tValidation Loss: 3.431298\n"
     ]
    },
    {
     "name": "stderr",
     "output_type": "stream",
     "text": [
      "\n"
     ]
    }
   ],
   "source": [
    "# number of epochs to train the model\n",
    "n_epochs = 20\n",
    "# initialize tracker for minimum validation loss\n",
    "valid_loss_min = np.Inf  # set initial \"min\" to infinity\n",
    "for epoch in range(n_epochs):\n",
    "    # monitor losses\n",
    "    \n",
    "    train_loss = train(model, device, train_loader, optimizer)\n",
    "    \n",
    "    valid_loss = test(model, device, valid_loader)\n",
    "    \n",
    "    # print training/validation statistics \n",
    "    # calculate average loss over an epoch\n",
    "    train_loss = train_loss / len(train_loader.sampler)\n",
    "    valid_loss = valid_loss / len(valid_loader.sampler)\n",
    "    \n",
    "    print('Epoch: {} \\tTraining Loss: {:.6f} \\tValidation Loss: {:.6f}'.format(\n",
    "        epoch+1, \n",
    "        train_loss,\n",
    "        valid_loss\n",
    "        ))\n",
    "    \n",
    "    # save model if validation loss has decreased\n",
    "    if valid_loss <= valid_loss_min:\n",
    "        print('Validation loss decreased ({:.6f} --> {:.6f}).  Saving model ...'.format(\n",
    "        valid_loss_min,\n",
    "        valid_loss))\n",
    "        torch.save(model.state_dict(), 'model_jet.pt')\n",
    "        valid_loss_min = valid_loss"
   ]
  },
  {
   "cell_type": "code",
   "execution_count": 50,
   "metadata": {},
   "outputs": [
    {
     "data": {
      "text/plain": [
       "DeepSet(\n",
       "  (sequential): ModuleList(\n",
       "    (0): DeepSetLayer(\n",
       "      (Gamma): Linear(in_features=23, out_features=25, bias=True)\n",
       "      (Lambda): Linear(in_features=23, out_features=25, bias=True)\n",
       "    )\n",
       "    (1): ReLU()\n",
       "    (2): DeepSetLayer(\n",
       "      (Gamma): Linear(in_features=25, out_features=20, bias=True)\n",
       "      (Lambda): Linear(in_features=25, out_features=20, bias=True)\n",
       "    )\n",
       "    (3): ReLU()\n",
       "    (4): DeepSetLayer(\n",
       "      (Gamma): Linear(in_features=20, out_features=15, bias=True)\n",
       "      (Lambda): Linear(in_features=20, out_features=15, bias=True)\n",
       "    )\n",
       "    (5): ReLU()\n",
       "    (6): DeepSetLayer(\n",
       "      (Gamma): Linear(in_features=15, out_features=10, bias=True)\n",
       "      (Lambda): Linear(in_features=15, out_features=10, bias=True)\n",
       "    )\n",
       "    (7): ReLU()\n",
       "    (8): DeepSetLayer(\n",
       "      (Gamma): Linear(in_features=10, out_features=6, bias=True)\n",
       "      (Lambda): Linear(in_features=10, out_features=6, bias=True)\n",
       "    )\n",
       "    (9): DeepSetLayer(\n",
       "      (Gamma): Linear(in_features=6, out_features=4, bias=True)\n",
       "      (Lambda): Linear(in_features=6, out_features=4, bias=True)\n",
       "    )\n",
       "  )\n",
       ")"
      ]
     },
     "execution_count": 50,
     "metadata": {},
     "output_type": "execute_result"
    }
   ],
   "source": [
    "model_test = DeepSet(in_features=23, feats=[25, 20, 15, 10, 6], n_class=4)\n",
    "model_test.load_state_dict(torch.load('model_jet.pt'))\n",
    "model_test.to(device)"
   ]
  },
  {
   "cell_type": "code",
   "execution_count": 51,
   "metadata": {},
   "outputs": [],
   "source": [
    "def eval_model(model, data_loader):\n",
    "    model.eval() # Set model to eval mode\n",
    "    true_preds, num_preds = 0., 0.\n",
    "    \n",
    "    with torch.no_grad(): # Deactivate gradients for the following code\n",
    "        for data_inputs, data_labels in data_loader:\n",
    "            \n",
    "            # Determine prediction of model on dev set\n",
    "            data_inputs, data_labels = data_inputs.to(device), data_labels.to(device)\n",
    "            preds = model(data_inputs)\n",
    "            # preds = preds.squeeze(dim=1)\n",
    "            # preds = torch.sigmoid(preds) # Sigmoid to map predictions between 0 and 1\n",
    "            pred_labels = torch.argmax(preds, dim=-1) # Binarize predictions to 0 and 10\n",
    "            \n",
    "            # Keep records of predictions for the accuracy metric (true_preds=TP+TN, num_preds=TP+TN+FP+FN)\n",
    "            true_preds += (pred_labels == data_labels).sum()\n",
    "            num_preds += data_labels.shape[0]\n",
    "            \n",
    "    acc = true_preds / num_preds\n",
    "    print(f\"Accuracy of the model: {100.0*acc:4.2f}%\")"
   ]
  },
  {
   "cell_type": "code",
   "execution_count": 52,
   "metadata": {},
   "outputs": [
    {
     "name": "stdout",
     "output_type": "stream",
     "text": [
      "Accuracy of the model: 50.66%\n"
     ]
    }
   ],
   "source": [
    "eval_model(model_test, test_loader)"
   ]
  },
  {
   "cell_type": "markdown",
   "metadata": {},
   "source": [
    "## What will you do to regress jet mass?"
   ]
  },
  {
   "cell_type": "markdown",
   "metadata": {},
   "source": []
  }
 ],
 "metadata": {
  "kernelspec": {
   "display_name": "work_env",
   "language": "python",
   "name": "python3"
  },
  "language_info": {
   "codemirror_mode": {
    "name": "ipython",
    "version": 3
   },
   "file_extension": ".py",
   "mimetype": "text/x-python",
   "name": "python",
   "nbconvert_exporter": "python",
   "pygments_lexer": "ipython3",
   "version": "3.11.4"
  },
  "orig_nbformat": 4
 },
 "nbformat": 4,
 "nbformat_minor": 2
}
