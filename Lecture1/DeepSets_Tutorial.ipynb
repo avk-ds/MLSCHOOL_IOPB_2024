{
 "cells": [
  {
   "cell_type": "markdown",
   "metadata": {},
   "source": [
    "# Introduction to pointcloud & Deepset"
   ]
  },
  {
   "cell_type": "code",
   "execution_count": 1,
   "metadata": {},
   "outputs": [],
   "source": [
    "import torch#, torchvision, torchmetrics\n",
    "import torch.utils.data as data\n",
    "from torch.utils.data.sampler import SubsetRandomSampler\n",
    "import torch.nn as nn\n",
    "import torch.nn.functional as F\n",
    "import torch.optim as optim\n",
    "from torch.autograd import Variable\n",
    "import numpy as np"
   ]
  },
  {
   "cell_type": "code",
   "execution_count": 2,
   "metadata": {},
   "outputs": [],
   "source": [
    "from torchvision import datasets, transforms"
   ]
  },
  {
   "cell_type": "code",
   "execution_count": 3,
   "metadata": {},
   "outputs": [],
   "source": [
    "import matplotlib.pyplot as plt"
   ]
  },
  {
   "cell_type": "code",
   "execution_count": 4,
   "metadata": {},
   "outputs": [],
   "source": [
    "transform=transforms.Compose([\n",
    "        transforms.ToTensor(),\n",
    "        transforms.Normalize((0.,), (1.0,))\n",
    "        ])\n",
    "\n",
    "dataset = datasets.MNIST('./data', train=True, download=False,transform=transform)"
   ]
  },
  {
   "cell_type": "code",
   "execution_count": 5,
   "metadata": {},
   "outputs": [],
   "source": [
    "if(torch.backends.cuda.is_built()) : \n",
    "    device='cuda'\n",
    "elif(torch.backends.mps.is_built()) : \n",
    "    device='mps'\n",
    "else : \n",
    "    device='cpu'"
   ]
  },
  {
   "cell_type": "code",
   "execution_count": 6,
   "metadata": {},
   "outputs": [],
   "source": [
    "X,y = dataset[12]"
   ]
  },
  {
   "cell_type": "code",
   "execution_count": null,
   "metadata": {},
   "outputs": [],
   "source": []
  },
  {
   "cell_type": "code",
   "execution_count": 7,
   "metadata": {},
   "outputs": [
    {
     "data": {
      "text/plain": [
       "tensor([0.1786, 0.1786, 0.1786, 0.1786, 0.1786, 0.1786, 0.1786, 0.1786, 0.1786,\n",
       "        0.1786, 0.1786, 0.1786, 0.1786, 0.2143, 0.2143, 0.2143, 0.2143, 0.2143,\n",
       "        0.2143, 0.2143, 0.2143, 0.2143, 0.2143, 0.2143, 0.2143, 0.2143, 0.2143,\n",
       "        0.2143, 0.2143, 0.2500, 0.2500, 0.2500, 0.2500, 0.2500, 0.2500, 0.2500,\n",
       "        0.2500, 0.2500, 0.2500, 0.2500, 0.2500, 0.2500, 0.2500, 0.2500, 0.2500,\n",
       "        0.2857, 0.2857, 0.2857, 0.2857, 0.2857, 0.2857, 0.2857, 0.2857, 0.2857,\n",
       "        0.2857, 0.3214, 0.3214, 0.3214, 0.3214, 0.3214, 0.3571, 0.3571, 0.3571,\n",
       "        0.3571, 0.3571, 0.3571, 0.3929, 0.3929, 0.3929, 0.3929, 0.3929, 0.3929,\n",
       "        0.3929, 0.4286, 0.4286, 0.4286, 0.4286, 0.4286, 0.4286, 0.4286, 0.4286,\n",
       "        0.4643, 0.4643, 0.4643, 0.4643, 0.4643, 0.4643, 0.4643, 0.4643, 0.4643,\n",
       "        0.4643, 0.5000, 0.5000, 0.5000, 0.5000, 0.5000, 0.5000, 0.5000, 0.5000,\n",
       "        0.5000, 0.5000, 0.5000, 0.5000, 0.5357, 0.5357, 0.5357, 0.5357, 0.5357,\n",
       "        0.5357, 0.5357, 0.5357, 0.5357, 0.5357, 0.5357, 0.5714, 0.5714, 0.5714,\n",
       "        0.5714, 0.5714, 0.5714, 0.5714, 0.6071, 0.6071, 0.6071, 0.6071, 0.6071,\n",
       "        0.6071, 0.6429, 0.6429, 0.6429, 0.6429, 0.6429, 0.6786, 0.6786, 0.6786,\n",
       "        0.6786, 0.6786, 0.6786, 0.6786, 0.6786, 0.6786, 0.7143, 0.7143, 0.7143,\n",
       "        0.7143, 0.7143, 0.7143, 0.7143, 0.7143, 0.7143, 0.7143, 0.7500, 0.7500,\n",
       "        0.7500, 0.7500, 0.7500, 0.7500, 0.7500, 0.7500, 0.7500, 0.7500, 0.7500,\n",
       "        0.7500, 0.7500, 0.7857, 0.7857, 0.7857, 0.7857, 0.7857, 0.7857, 0.7857,\n",
       "        0.7857, 0.7857, 0.7857, 0.7857, 0.7857, 0.7857, 0.7857, 0.8214, 0.8214,\n",
       "        0.8214, 0.8214, 0.8214, 0.8214, 0.8214, 0.8214, 0.8214, 0.8214, 0.8214,\n",
       "        0.8214, 0.8214, 0.8571, 0.8571, 0.8571, 0.8571, 0.8571, 0.8571, 0.8571,\n",
       "        0.8571, 0.8571, 0.8571])"
      ]
     },
     "execution_count": 7,
     "metadata": {},
     "output_type": "execute_result"
    }
   ],
   "source": [
    "img_array = X[0]\n",
    "torch.argwhere(img_array > 0.)[:,0]/img_array.shape[0]"
   ]
  },
  {
   "cell_type": "code",
   "execution_count": 8,
   "metadata": {},
   "outputs": [
    {
     "data": {
      "text/plain": [
       "<matplotlib.colorbar.Colorbar at 0x145d06f90>"
      ]
     },
     "execution_count": 8,
     "metadata": {},
     "output_type": "execute_result"
    },
    {
     "data": {
      "image/png": "[encoded data removed]",
      "text/plain": [
       "<Figure size 640x480 with 2 Axes>"
      ]
     },
     "metadata": {},
     "output_type": "display_data"
    }
   ],
   "source": [
    "plt.imshow(X[0].numpy())\n",
    "plt.colorbar()\n"
   ]
  },
  {
   "cell_type": "code",
   "execution_count": 9,
   "metadata": {},
   "outputs": [],
   "source": [
    "# def transform_2d_img_to_point_cloud(data):\n",
    "    \n",
    "#     img, label = data\n",
    "#     img_array = img[0]\n",
    "#     values = img_array[img_array > 0]\n",
    "#     x_coord = torch.argwhere(img_array > 0.)[:,0]/img_array.shape[0]\n",
    "#     y_coord = torch.argwhere(img_array > 0.)[:,1]/img_array.shape[0]\n",
    "    \n",
    "#     return torch.stack( (x_coord, y_coord, values), dim=-1), label "
   ]
  },
  {
   "cell_type": "code",
   "execution_count": 10,
   "metadata": {},
   "outputs": [],
   "source": [
    "#vect = transform_2d_img_to_point_cloudT(X)"
   ]
  },
  {
   "cell_type": "code",
   "execution_count": 11,
   "metadata": {},
   "outputs": [],
   "source": [
    "class MNISTPC_Dataset(data.Dataset):\n",
    "\n",
    "    def __init__(self, dataset_path:str, train:bool = True, download:bool =False, mean:float = 0., std:float = 1.) -> None:\n",
    "        \"\"\"\n",
    "        Inputs:\n",
    "            size - Number of data points we want to generate\n",
    "            std - Standard deviation of the noise (see generate_continuous_xor function)\n",
    "        \"\"\"\n",
    "        super().__init__()\n",
    "        \n",
    "        self.transform = transforms.Compose(\n",
    "                       [\n",
    "                        transforms.ToTensor(),\n",
    "                        transforms.Normalize((mean,), (std,))\n",
    "                       ]\n",
    "                       )\n",
    "        \n",
    "        self.dataset = datasets.MNIST(dataset_path, train=train, download=download,\n",
    "                       transform=self.transform)\n",
    "        \n",
    "        \n",
    "        self.pc_dataset = [ self.transform_2d_img_to_point_cloud(self.dataset[idx]) for idx in range(len(self.dataset)) ]\n",
    "\n",
    "\n",
    "    def transform_2d_img_to_point_cloud(self, data_i:tuple) -> dict :\n",
    "    \n",
    "        img, label = data_i\n",
    "        img_array = img[0]\n",
    "        values = img_array[img_array > 0]\n",
    "        x_coord = torch.argwhere(img_array > 0.)[:,0]/img_array.shape[0]\n",
    "        y_coord = torch.argwhere(img_array > 0.)[:,1]/img_array.shape[0]\n",
    "        \n",
    "        point_vec = torch.stack( (x_coord, y_coord, values), dim=-1)\n",
    "        \n",
    "        return {'point' : point_vec, 'label' : label, 'seq_length' : len(point_vec)}\n",
    "        \n",
    "\n",
    "    def __len__(self) -> int:\n",
    "        # Number of data point we have. Alternatively self.data.shape[0], or self.label.shape[0]\n",
    "        return len(self.pc_dataset)\n",
    "    \n",
    "    def __getitem__(self, idx:int) -> dict :\n",
    "        # Return the idx-th data point of the dataset\n",
    "    \n",
    "        return self.pc_dataset[idx]#data_point, data_label\n"
   ]
  },
  {
   "cell_type": "code",
   "execution_count": null,
   "metadata": {},
   "outputs": [],
   "source": []
  },
  {
   "cell_type": "code",
   "execution_count": 12,
   "metadata": {},
   "outputs": [],
   "source": [
    "pc_dataset = MNISTPC_Dataset('./data/')"
   ]
  },
  {
   "cell_type": "code",
   "execution_count": 13,
   "metadata": {},
   "outputs": [
    {
     "data": {
      "text/plain": [
       "{'point': tensor([[0.2500, 0.4643, 0.0706],\n",
       "         [0.2500, 0.5000, 0.4118],\n",
       "         [0.2500, 0.5357, 0.8902],\n",
       "         [0.2500, 0.5714, 0.9922],\n",
       "         [0.2500, 0.6071, 0.9922],\n",
       "         [0.2500, 0.6429, 0.4784],\n",
       "         [0.2857, 0.4286, 0.2235],\n",
       "         [0.2857, 0.4643, 0.7804],\n",
       "         [0.2857, 0.5000, 0.9922],\n",
       "         [0.2857, 0.5357, 0.9882],\n",
       "         [0.2857, 0.5714, 0.9882],\n",
       "         [0.2857, 0.6071, 0.9882],\n",
       "         [0.2857, 0.6429, 0.9882],\n",
       "         [0.2857, 0.6786, 0.6235],\n",
       "         [0.3214, 0.3929, 0.0784],\n",
       "         [0.3214, 0.4286, 0.8275],\n",
       "         [0.3214, 0.4643, 0.9882],\n",
       "         [0.3214, 0.5000, 0.9098],\n",
       "         [0.3214, 0.5357, 0.5961],\n",
       "         [0.3214, 0.5714, 0.2863],\n",
       "         [0.3214, 0.6071, 0.6549],\n",
       "         [0.3214, 0.6429, 0.9882],\n",
       "         [0.3214, 0.6786, 0.8431],\n",
       "         [0.3214, 0.7143, 0.0235],\n",
       "         [0.3571, 0.3929, 0.7725],\n",
       "         [0.3571, 0.4286, 0.9882],\n",
       "         [0.3571, 0.4643, 0.7137],\n",
       "         [0.3571, 0.6071, 0.1451],\n",
       "         [0.3571, 0.6429, 0.9216],\n",
       "         [0.3571, 0.6786, 0.9529],\n",
       "         [0.3571, 0.7143, 0.1843],\n",
       "         [0.3929, 0.3929, 0.7373],\n",
       "         [0.3929, 0.4286, 0.9882],\n",
       "         [0.3929, 0.4643, 0.4039],\n",
       "         [0.3929, 0.6071, 0.1451],\n",
       "         [0.3929, 0.6429, 0.9216],\n",
       "         [0.3929, 0.6786, 0.8980],\n",
       "         [0.3929, 0.7143, 0.1059],\n",
       "         [0.4286, 0.3929, 0.7412],\n",
       "         [0.4286, 0.4286, 0.9922],\n",
       "         [0.4286, 0.4643, 0.3373],\n",
       "         [0.4286, 0.5000, 0.0314],\n",
       "         [0.4286, 0.5357, 0.1686],\n",
       "         [0.4286, 0.5714, 0.5451],\n",
       "         [0.4286, 0.6071, 0.7451],\n",
       "         [0.4286, 0.6429, 0.8275],\n",
       "         [0.4286, 0.6786, 0.1765],\n",
       "         [0.4643, 0.3929, 0.9098],\n",
       "         [0.4643, 0.4286, 0.9882],\n",
       "         [0.4643, 0.4643, 0.7843],\n",
       "         [0.4643, 0.5000, 0.7882],\n",
       "         [0.4643, 0.5357, 0.9882],\n",
       "         [0.4643, 0.5714, 0.9882],\n",
       "         [0.4643, 0.6071, 0.3294],\n",
       "         [0.5000, 0.3929, 0.8353],\n",
       "         [0.5000, 0.4286, 0.9608],\n",
       "         [0.5000, 0.4643, 0.9882],\n",
       "         [0.5000, 0.5000, 0.9922],\n",
       "         [0.5000, 0.5357, 0.9882],\n",
       "         [0.5000, 0.5714, 0.9490],\n",
       "         [0.5000, 0.6071, 0.1647],\n",
       "         [0.5357, 0.4286, 0.2196],\n",
       "         [0.5357, 0.4643, 0.3294],\n",
       "         [0.5357, 0.5000, 0.9922],\n",
       "         [0.5357, 0.5357, 0.9882],\n",
       "         [0.5357, 0.5714, 0.6275],\n",
       "         [0.5714, 0.4643, 0.1765],\n",
       "         [0.5714, 0.5000, 0.9922],\n",
       "         [0.5714, 0.5357, 0.9882],\n",
       "         [0.5714, 0.5714, 0.1490],\n",
       "         [0.6071, 0.4643, 0.3490],\n",
       "         [0.6071, 0.5000, 1.0000],\n",
       "         [0.6071, 0.5357, 0.9922],\n",
       "         [0.6071, 0.5714, 0.1490],\n",
       "         [0.6429, 0.4643, 0.3137],\n",
       "         [0.6429, 0.5000, 0.9922],\n",
       "         [0.6429, 0.5357, 0.7412],\n",
       "         [0.6429, 0.5714, 0.1255],\n",
       "         [0.6786, 0.4286, 0.1608],\n",
       "         [0.6786, 0.4643, 0.7020],\n",
       "         [0.6786, 0.5000, 0.9098],\n",
       "         [0.6786, 0.5357, 0.3294],\n",
       "         [0.7143, 0.3929, 0.0588],\n",
       "         [0.7143, 0.4286, 0.8824],\n",
       "         [0.7143, 0.4643, 0.9882],\n",
       "         [0.7143, 0.5000, 0.4510],\n",
       "         [0.7500, 0.3929, 0.6000],\n",
       "         [0.7500, 0.4286, 0.9882],\n",
       "         [0.7500, 0.4643, 0.6431],\n",
       "         [0.7857, 0.3571, 0.2667],\n",
       "         [0.7857, 0.3929, 0.9608],\n",
       "         [0.7857, 0.4286, 0.9529],\n",
       "         [0.7857, 0.4643, 0.3098],\n",
       "         [0.8214, 0.3214, 0.1255],\n",
       "         [0.8214, 0.3571, 0.9294],\n",
       "         [0.8214, 0.3929, 0.9608],\n",
       "         [0.8214, 0.4286, 0.3216],\n",
       "         [0.8571, 0.2857, 0.0353],\n",
       "         [0.8571, 0.3214, 0.5804],\n",
       "         [0.8571, 0.3571, 0.9882],\n",
       "         [0.8571, 0.3929, 0.6627],\n",
       "         [0.8929, 0.2857, 0.4157],\n",
       "         [0.8929, 0.3214, 0.9922],\n",
       "         [0.8929, 0.3571, 0.7686],\n",
       "         [0.8929, 0.3929, 0.0275],\n",
       "         [0.9286, 0.2500, 0.2118],\n",
       "         [0.9286, 0.2857, 0.8941],\n",
       "         [0.9286, 0.3214, 0.5059],\n",
       "         [0.9286, 0.3571, 0.1098]]),\n",
       " 'label': 9,\n",
       " 'seq_length': 109}"
      ]
     },
     "execution_count": 13,
     "metadata": {},
     "output_type": "execute_result"
    }
   ],
   "source": [
    "pc_dataset[19]"
   ]
  },
  {
   "cell_type": "code",
   "execution_count": 14,
   "metadata": {},
   "outputs": [],
   "source": [
    "def visualize_samples(data, label, marker='o'):\n",
    "    if isinstance(data, torch.Tensor):\n",
    "        data = data.cpu().numpy()\n",
    "    if isinstance(label, torch.Tensor):\n",
    "        label = label.cpu().numpy()\n",
    "        \n",
    "    plt.figure(figsize=(4,4))\n",
    "    plt.scatter(data[:,0] , data[:,1], edgecolor=\"#333\", marker=marker, label=\"Class \" + str(label))\n",
    "    \n",
    "    plt.title(\"Dataset samples\")\n",
    "    plt.ylabel(r\"$x_2$\")\n",
    "    plt.xlabel(r\"$x_1$\")\n",
    "    plt.legend()"
   ]
  },
  {
   "cell_type": "code",
   "execution_count": 15,
   "metadata": {},
   "outputs": [],
   "source": [
    "pc, label = pc_dataset[19]['point'], pc_dataset[19]['label']"
   ]
  },
  {
   "cell_type": "code",
   "execution_count": 16,
   "metadata": {},
   "outputs": [
    {
     "data": {
      "image/png": "[encoded data removed]",
      "text/plain": [
       "<Figure size 400x400 with 1 Axes>"
      ]
     },
     "metadata": {},
     "output_type": "display_data"
    }
   ],
   "source": [
    "visualize_samples(pc, label)"
   ]
  },
  {
   "cell_type": "code",
   "execution_count": 17,
   "metadata": {},
   "outputs": [],
   "source": [
    "def create_batch(data_list : list) -> tuple : \n",
    "    \n",
    "    max_length = np.max([data_list[idx]['seq_length'] for idx in range(len(data_list))  ])\n",
    "    \n",
    "    pc_list, label_list = [], [] \n",
    "    \n",
    "    for idx in range(len(data_list)) : \n",
    "        \n",
    "        \n",
    "        pc, label = data_list[idx]['point'], data_list[idx]['label']\n",
    "        \n",
    "        N, C = pc.shape[0], pc.shape[1]\n",
    "        \n",
    "        pc_padded = torch.zeros([1, max_length, C])\n",
    "        \n",
    "        pc = pc.reshape(1, N, C) # (N, C) -> (1, N, C)\n",
    "        \n",
    "        pc_padded[:, 0 : N, :   ] = pc[:,:,:] # \n",
    "        \n",
    "        pc_list.append(pc_padded)\n",
    "        label_list.append( torch.tensor([label]) )\n",
    "    \n",
    "\n",
    "    return torch.cat(pc_list, dim=0), torch.cat(label_list, dim=0)"
   ]
  },
  {
   "cell_type": "code",
   "execution_count": 18,
   "metadata": {},
   "outputs": [
    {
     "data": {
      "text/plain": [
       "__main__.MNISTPC_Dataset"
      ]
     },
     "execution_count": 18,
     "metadata": {},
     "output_type": "execute_result"
    }
   ],
   "source": [
    "type(pc_dataset)"
   ]
  },
  {
   "cell_type": "code",
   "execution_count": 19,
   "metadata": {},
   "outputs": [],
   "source": [
    "pc_dataloader = data.DataLoader(dataset=pc_dataset, batch_size=5, shuffle=True, collate_fn=create_batch)"
   ]
  },
  {
   "cell_type": "code",
   "execution_count": 20,
   "metadata": {},
   "outputs": [],
   "source": [
    "pc_chunk, label_chunk = next(iter(pc_dataloader))"
   ]
  },
  {
   "cell_type": "code",
   "execution_count": 21,
   "metadata": {},
   "outputs": [
    {
     "data": {
      "text/plain": [
       "(torch.Size([5, 178, 3]), torch.Size([5]))"
      ]
     },
     "execution_count": 21,
     "metadata": {},
     "output_type": "execute_result"
    }
   ],
   "source": [
    "pc_chunk.shape, label_chunk.shape"
   ]
  },
  {
   "cell_type": "markdown",
   "metadata": {},
   "source": [
    "# Define the basic deepset layer\n",
    "\n",
    "A permutation equivariant layer is defined as \n",
    "$$ \n",
    "x' = \\Theta. x \\equiv \\gamma \\mathbb{I}.x + \\lambda (\\mathbb{I} \\mathbb{I}^T) . x~~~\\lambda \\,, \\gamma \\in \\mathbb{R}\n",
    "$$ \n",
    "\n",
    "Assuming $x = (x_1, x_2, x_3)^T$, the above equation becomes : \n",
    "$$\n",
    "\\begin{pmatrix}\n",
    "x_1' \\\\\n",
    "x_2' \\\\\n",
    "x_3' \n",
    "\\end{pmatrix}\n",
    "= \\gamma \n",
    "\\begin{pmatrix}\n",
    "1 && 0 && 0 \\\\\n",
    "0 && 1 && 0 \\\\\n",
    "0 && 0 && 1\n",
    "\\end{pmatrix} \n",
    "\\begin{pmatrix}\n",
    "x_1 \\\\\n",
    "x_2 \\\\\n",
    "x_3 \n",
    "\\end{pmatrix} + \n",
    "\\lambda\n",
    "\\begin{pmatrix}\n",
    "1 && 1 && 1 \\\\\n",
    "1 && 1 && 1 \\\\\n",
    "1 && 1 && 1\n",
    "\\end{pmatrix}  \n",
    "\\begin{pmatrix}\n",
    "x_1 \\\\\n",
    "x_2 \\\\\n",
    "x_3 \n",
    "\\end{pmatrix} \\\\ \\\\\n",
    "= \n",
    "\\begin{pmatrix}\n",
    "(\\gamma + \\lambda)x_1 + \\lambda(x_2 + x_3)\\\\\n",
    "(\\gamma + \\lambda)x_2 + \\lambda(x_1 + x_3) \\\\\n",
    "(\\gamma + \\lambda)x_3 + \\lambda(x_1 + x_2) \n",
    "\\end{pmatrix} \\\\ \\\\\n",
    "= (\\gamma + \\lambda)\n",
    "\\begin{pmatrix}\n",
    "x_1 \\\\\n",
    "x_2 \\\\\n",
    "x_3 \n",
    "\\end{pmatrix}\n",
    "- \\lambda\n",
    "\\begin{pmatrix}\n",
    "x_1 - \\sum x_i\\\\\n",
    "x_2 - \\sum x_i\\\\\n",
    "x_3 - \\sum x_i\n",
    "\\end{pmatrix}\n",
    "= \\Gamma .x + \\Lambda.\\Big(x - \\alpha(x) \\Big)\n",
    "$$\n"
   ]
  },
  {
   "cell_type": "code",
   "execution_count": 22,
   "metadata": {},
   "outputs": [],
   "source": [
    "class DeepSetLayer(nn.Module):\n",
    "    def __init__(self, in_features:int, out_features:int,  normalization:str = '', pool:str = 'mean') -> None :\n",
    "        \"\"\"\n",
    "        DeepSets single layer\n",
    "        :param in_features: input's number of features\n",
    "        :param out_features: output's number of features\n",
    "        :param attention: Whether to use attention\n",
    "        :param normalization: normalization method - 'fro' or 'batchnorm'\n",
    "        \n",
    "        \"\"\"\n",
    "        super(DeepSetLayer, self).__init__()\n",
    "\n",
    "        self.Gamma = nn.Linear(in_features, out_features)\n",
    "        self.Lambda = nn.Linear(in_features, out_features)\n",
    "\n",
    "        self.normalization = normalization\n",
    "        self.pool = pool\n",
    "        \n",
    "        if normalization == 'batchnorm':\n",
    "            self.bn = nn.BatchNorm1d(out_features)\n",
    "\n",
    "    def forward(self, x : torch.Tensor) -> torch.Tensor :\n",
    "        # x.shape = (B, N, C)\n",
    "        if(self.pool == 'mean') : \n",
    "            x = self.Gamma(x) + self.Lambda(x - x.mean(dim=1, keepdim=True)) # -- the average is over the points -- #\n",
    "        elif(self.pool == 'max') :\n",
    "            x = self.Gamma(x) + self.Lambda(x - x.max(dim=1, keepdim=True)) # -- the max is over the points -- #\n",
    "\n",
    "        # normalization\n",
    "        if self.normalization == 'batchnorm':\n",
    "            x = self.bn(x)\n",
    "        \n",
    "\n",
    "        return x"
   ]
  },
  {
   "cell_type": "code",
   "execution_count": 21,
   "metadata": {},
   "outputs": [],
   "source": [
    "ds_layer = DeepSetLayer(in_features = 3, out_features = 4)"
   ]
  },
  {
   "cell_type": "code",
   "execution_count": 22,
   "metadata": {},
   "outputs": [],
   "source": [
    "y = ds_layer(pc_chunk)"
   ]
  },
  {
   "cell_type": "code",
   "execution_count": 23,
   "metadata": {},
   "outputs": [
    {
     "data": {
      "text/plain": [
       "(torch.Size([5, 242, 3]), torch.Size([5, 242, 4]))"
      ]
     },
     "execution_count": 23,
     "metadata": {},
     "output_type": "execute_result"
    }
   ],
   "source": [
    "pc_chunk.shape, y.shape"
   ]
  },
  {
   "cell_type": "markdown",
   "metadata": {},
   "source": [
    "## Make the full deepset model as stack of Deepset layers and non-linear activation functions"
   ]
  },
  {
   "cell_type": "code",
   "execution_count": 24,
   "metadata": {},
   "outputs": [],
   "source": [
    "class DeepSet(nn.Module):\n",
    "    def __init__(self, in_features:int, feats:list, n_class:int, normalization:str = '', pool:str = 'mean') ->None:\n",
    "        \"\"\"\n",
    "        DeepSets implementation\n",
    "        :param in_features: input's number of features\n",
    "        :param feats: list of features for each deepsets layer\n",
    "        \"\"\"\n",
    "        super(DeepSet, self).__init__()\n",
    "\n",
    "        layers = []\n",
    "\n",
    "        layers.append(DeepSetLayer(in_features = in_features, out_features = feats[0], normalization = normalization, pool = pool))\n",
    "        for i in range(1, len(feats)):\n",
    "            layers.append(nn.ReLU())\n",
    "            layers.append(DeepSetLayer(in_features = feats[i-1], out_features = feats[i], normalization = normalization, pool = pool))\n",
    "\n",
    "        layers.append(DeepSetLayer(in_features = feats[-1], out_features = n_class, normalization = normalization, pool = pool))\n",
    "        #self.sequential = nn.Sequential(*layers)\n",
    "        self.sequential = nn.ModuleList(layers)\n",
    "\n",
    "    def forward(self, x:torch.Tensor) -> torch.Tensor:\n",
    "        #return self.sequential(x)\n",
    "        for i, layer in enumerate(self.sequential):\n",
    "            x = layer(x)\n",
    "        \n",
    "        x = x.mean(dim=1) # -- average over the points -- #\n",
    "        out = F.log_softmax(x, dim=-1)\n",
    "        \n",
    "        return out\n"
   ]
  },
  {
   "cell_type": "code",
   "execution_count": null,
   "metadata": {},
   "outputs": [],
   "source": []
  },
  {
   "cell_type": "code",
   "execution_count": 25,
   "metadata": {},
   "outputs": [],
   "source": [
    "model = DeepSet(in_features=3, feats=[5, 9, 12, 16, 13], n_class=10)\n",
    "model = model.to(device)"
   ]
  },
  {
   "cell_type": "code",
   "execution_count": 26,
   "metadata": {},
   "outputs": [],
   "source": [
    "y = model(pc_chunk.to(device))"
   ]
  },
  {
   "cell_type": "code",
   "execution_count": 27,
   "metadata": {},
   "outputs": [
    {
     "data": {
      "text/plain": [
       "(torch.Size([5, 10]), torch.Size([5]))"
      ]
     },
     "execution_count": 27,
     "metadata": {},
     "output_type": "execute_result"
    }
   ],
   "source": [
    "y.shape, label_chunk.shape"
   ]
  },
  {
   "cell_type": "code",
   "execution_count": 28,
   "metadata": {},
   "outputs": [
    {
     "data": {
      "text/plain": [
       "tensor(2.3288, device='mps:0', grad_fn=<NllLossBackward0>)"
      ]
     },
     "execution_count": 28,
     "metadata": {},
     "output_type": "execute_result"
    }
   ],
   "source": [
    "F.nll_loss(input=y, target=label_chunk.to(device))"
   ]
  },
  {
   "cell_type": "code",
   "execution_count": 29,
   "metadata": {},
   "outputs": [
    {
     "data": {
      "text/plain": [
       "True"
      ]
     },
     "execution_count": 29,
     "metadata": {},
     "output_type": "execute_result"
    }
   ],
   "source": [
    "torch.backends.mps.is_built()"
   ]
  },
  {
   "cell_type": "code",
   "execution_count": null,
   "metadata": {},
   "outputs": [],
   "source": []
  },
  {
   "cell_type": "code",
   "execution_count": 30,
   "metadata": {},
   "outputs": [
    {
     "data": {
      "text/plain": [
       "'mps'"
      ]
     },
     "execution_count": 30,
     "metadata": {},
     "output_type": "execute_result"
    }
   ],
   "source": [
    "device"
   ]
  },
  {
   "cell_type": "markdown",
   "metadata": {},
   "source": [
    "## creating the training block"
   ]
  },
  {
   "cell_type": "code",
   "execution_count": 31,
   "metadata": {},
   "outputs": [],
   "source": [
    "def train(model, device, train_loader, optimizer):\n",
    "    \n",
    "    train_loss_ep = 0.\n",
    "    \n",
    "    model.train()\n",
    "    for batch_idx, (data, target) in enumerate(train_loader):\n",
    "        data, target = data.to(device), target.to(device)\n",
    "        optimizer.zero_grad()\n",
    "        output = model(data)\n",
    "        loss = F.nll_loss(output, target)\n",
    "        loss.backward()\n",
    "        optimizer.step()\n",
    "        \n",
    "        train_loss_ep += loss.item() * data.size(0)\n",
    "        \n",
    "    return train_loss_ep\n",
    "\n"
   ]
  },
  {
   "cell_type": "markdown",
   "metadata": {},
   "source": [
    "## create the testing block"
   ]
  },
  {
   "cell_type": "code",
   "execution_count": 32,
   "metadata": {},
   "outputs": [],
   "source": [
    "def test(model, device, test_loader):\n",
    "    \n",
    "    test_loss_ep = 0.\n",
    "    \n",
    "    model.eval()\n",
    "    for batch_idx, (data, target) in enumerate(test_loader):\n",
    "        data, target = data.to(device), target.to(device)\n",
    "         \n",
    "        output = model(data)\n",
    "        loss = F.nll_loss(output, target)\n",
    "        \n",
    "        test_loss_ep += loss.item() * data.size(0)\n",
    "        \n",
    "    return test_loss_ep"
   ]
  },
  {
   "cell_type": "markdown",
   "metadata": {},
   "source": [
    "# Let's prepare the full dataset and dataloaders"
   ]
  },
  {
   "cell_type": "code",
   "execution_count": 33,
   "metadata": {},
   "outputs": [],
   "source": [
    "# number of subprocesses to use for data loading\n",
    "num_workers = 0\n",
    "# how many samples per batch to load\n",
    "batch_size = 5\n",
    "# percentage of training set to use as validation\n",
    "valid_size = 0.2\n",
    "# # convert data to torch.FloatTensor\n",
    "# transform = transforms.ToTensor()\n",
    "# choose the training and testing datasets\n",
    "train_data =  MNISTPC_Dataset('./data/', train = True, download = True)\n",
    "test_data = MNISTPC_Dataset('./data/', train = False, download = True)\n",
    "# obtain training indices that will be used for validation\n",
    "num_train = len(train_data)\n",
    "indices = list(range(num_train))\n",
    "np.random.shuffle(indices)\n",
    "split = int(np.floor(valid_size * num_train))\n",
    "train_index, valid_index = indices[split:], indices[:split]\n",
    "# define samplers for obtaining training and validation batches\n",
    "train_sampler = SubsetRandomSampler(train_index)\n",
    "valid_sampler = SubsetRandomSampler(valid_index)\n",
    "# prepare data loaders\n",
    "train_loader = data.DataLoader(dataset=train_data, batch_size = batch_size, \n",
    "                                           num_workers = num_workers, sampler = train_sampler, collate_fn=create_batch)\n",
    "valid_loader = data.DataLoader(train_data, batch_size = batch_size,\n",
    "                                          num_workers = num_workers,  sampler = valid_sampler, collate_fn=create_batch)\n",
    "test_loader = data.DataLoader(test_data, batch_size = batch_size,\n",
    "                                                     num_workers = num_workers, shuffle=False, collate_fn=create_batch)\n"
   ]
  },
  {
   "cell_type": "code",
   "execution_count": 34,
   "metadata": {},
   "outputs": [],
   "source": [
    "model = model.to(device=device)"
   ]
  },
  {
   "cell_type": "code",
   "execution_count": 35,
   "metadata": {},
   "outputs": [],
   "source": [
    "optimizer = torch.optim.SGD(model.parameters(),lr = 0.01)"
   ]
  },
  {
   "cell_type": "markdown",
   "metadata": {},
   "source": [
    "## Run the training loop "
   ]
  },
  {
   "cell_type": "code",
   "execution_count": 36,
   "metadata": {},
   "outputs": [
    {
     "name": "stdout",
     "output_type": "stream",
     "text": [
      "Epoch: 1 \tTraining Loss: 2.268707 \tValidation Loss: 2.082743\n",
      "Validation loss decreased (inf --> 2.082743).  Saving model ...\n",
      "Epoch: 2 \tTraining Loss: 2.060743 \tValidation Loss: 2.064959\n",
      "Validation loss decreased (2.082743 --> 2.064959).  Saving model ...\n",
      "Epoch: 3 \tTraining Loss: 2.051775 \tValidation Loss: 2.045711\n",
      "Validation loss decreased (2.064959 --> 2.045711).  Saving model ...\n",
      "Epoch: 4 \tTraining Loss: 2.026649 \tValidation Loss: 1.999775\n",
      "Validation loss decreased (2.045711 --> 1.999775).  Saving model ...\n",
      "Epoch: 5 \tTraining Loss: 2.006820 \tValidation Loss: 1.998050\n",
      "Validation loss decreased (1.999775 --> 1.998050).  Saving model ...\n",
      "Epoch: 6 \tTraining Loss: 1.978507 \tValidation Loss: 1.959579\n",
      "Validation loss decreased (1.998050 --> 1.959579).  Saving model ...\n",
      "Epoch: 7 \tTraining Loss: 1.857825 \tValidation Loss: 1.936993\n",
      "Validation loss decreased (1.959579 --> 1.936993).  Saving model ...\n",
      "Epoch: 8 \tTraining Loss: 1.643015 \tValidation Loss: 1.380269\n",
      "Validation loss decreased (1.936993 --> 1.380269).  Saving model ...\n",
      "Epoch: 9 \tTraining Loss: 1.138415 \tValidation Loss: 0.959884\n",
      "Validation loss decreased (1.380269 --> 0.959884).  Saving model ...\n",
      "Epoch: 10 \tTraining Loss: 0.694272 \tValidation Loss: 0.581075\n",
      "Validation loss decreased (0.959884 --> 0.581075).  Saving model ...\n",
      "Epoch: 11 \tTraining Loss: 0.543532 \tValidation Loss: 0.479684\n",
      "Validation loss decreased (0.581075 --> 0.479684).  Saving model ...\n",
      "Epoch: 12 \tTraining Loss: 0.471530 \tValidation Loss: 0.474643\n",
      "Validation loss decreased (0.479684 --> 0.474643).  Saving model ...\n",
      "Epoch: 13 \tTraining Loss: 0.426671 \tValidation Loss: 0.379135\n",
      "Validation loss decreased (0.474643 --> 0.379135).  Saving model ...\n",
      "Epoch: 14 \tTraining Loss: 0.401789 \tValidation Loss: 0.413369\n",
      "Epoch: 15 \tTraining Loss: 0.376152 \tValidation Loss: 0.376411\n",
      "Validation loss decreased (0.379135 --> 0.376411).  Saving model ...\n",
      "Epoch: 16 \tTraining Loss: 0.355882 \tValidation Loss: 0.352622\n",
      "Validation loss decreased (0.376411 --> 0.352622).  Saving model ...\n",
      "Epoch: 17 \tTraining Loss: 0.340456 \tValidation Loss: 0.287567\n",
      "Validation loss decreased (0.352622 --> 0.287567).  Saving model ...\n",
      "Epoch: 18 \tTraining Loss: 0.324818 \tValidation Loss: 0.318341\n",
      "Epoch: 19 \tTraining Loss: 0.315690 \tValidation Loss: 0.267479\n",
      "Validation loss decreased (0.287567 --> 0.267479).  Saving model ...\n",
      "Epoch: 20 \tTraining Loss: 0.301650 \tValidation Loss: 0.345408\n"
     ]
    }
   ],
   "source": [
    "# number of epochs to train the model\n",
    "n_epochs = 20\n",
    "# initialize tracker for minimum validation loss\n",
    "valid_loss_min = np.Inf  # set initial \"min\" to infinity\n",
    "for epoch in range(n_epochs):\n",
    "    # monitor losses\n",
    "    \n",
    "    train_loss = train(model, device, train_loader, optimizer)\n",
    "    \n",
    "    valid_loss = test(model, device, valid_loader)\n",
    "    \n",
    "    # print training/validation statistics \n",
    "    # calculate average loss over an epoch\n",
    "    train_loss = train_loss / len(train_loader.sampler)\n",
    "    valid_loss = valid_loss / len(valid_loader.sampler)\n",
    "    \n",
    "    print('Epoch: {} \\tTraining Loss: {:.6f} \\tValidation Loss: {:.6f}'.format(\n",
    "        epoch+1, \n",
    "        train_loss,\n",
    "        valid_loss\n",
    "        ))\n",
    "    \n",
    "    # save model if validation loss has decreased\n",
    "    if valid_loss <= valid_loss_min:\n",
    "        print('Validation loss decreased ({:.6f} --> {:.6f}).  Saving model ...'.format(\n",
    "        valid_loss_min,\n",
    "        valid_loss))\n",
    "        torch.save(model.state_dict(), 'model.pt')\n",
    "        valid_loss_min = valid_loss"
   ]
  },
  {
   "cell_type": "markdown",
   "metadata": {},
   "source": [
    "## Load the best saved model and use it for test performance"
   ]
  },
  {
   "cell_type": "code",
   "execution_count": 37,
   "metadata": {},
   "outputs": [
    {
     "data": {
      "text/plain": [
       "DeepSet(\n",
       "  (sequential): ModuleList(\n",
       "    (0): DeepSetLayer(\n",
       "      (Gamma): Linear(in_features=3, out_features=5, bias=True)\n",
       "      (Lambda): Linear(in_features=3, out_features=5, bias=True)\n",
       "    )\n",
       "    (1): ReLU()\n",
       "    (2): DeepSetLayer(\n",
       "      (Gamma): Linear(in_features=5, out_features=9, bias=True)\n",
       "      (Lambda): Linear(in_features=5, out_features=9, bias=True)\n",
       "    )\n",
       "    (3): ReLU()\n",
       "    (4): DeepSetLayer(\n",
       "      (Gamma): Linear(in_features=9, out_features=12, bias=True)\n",
       "      (Lambda): Linear(in_features=9, out_features=12, bias=True)\n",
       "    )\n",
       "    (5): ReLU()\n",
       "    (6): DeepSetLayer(\n",
       "      (Gamma): Linear(in_features=12, out_features=16, bias=True)\n",
       "      (Lambda): Linear(in_features=12, out_features=16, bias=True)\n",
       "    )\n",
       "    (7): ReLU()\n",
       "    (8): DeepSetLayer(\n",
       "      (Gamma): Linear(in_features=16, out_features=13, bias=True)\n",
       "      (Lambda): Linear(in_features=16, out_features=13, bias=True)\n",
       "    )\n",
       "    (9): DeepSetLayer(\n",
       "      (Gamma): Linear(in_features=13, out_features=10, bias=True)\n",
       "      (Lambda): Linear(in_features=13, out_features=10, bias=True)\n",
       "    )\n",
       "  )\n",
       ")"
      ]
     },
     "execution_count": 37,
     "metadata": {},
     "output_type": "execute_result"
    }
   ],
   "source": [
    "model_test = DeepSet(in_features=3, feats=[5, 9, 12, 16, 13], n_class=10)\n",
    "model_test.load_state_dict(torch.load('model.pt'))\n",
    "model_test.to(device)\n",
    "\n"
   ]
  },
  {
   "cell_type": "code",
   "execution_count": 38,
   "metadata": {},
   "outputs": [],
   "source": [
    "\n",
    "def eval_model(model, data_loader):\n",
    "    model.eval() # Set model to eval mode\n",
    "    true_preds, num_preds = 0., 0.\n",
    "    \n",
    "    with torch.no_grad(): # Deactivate gradients for the following code\n",
    "        for data_inputs, data_labels in data_loader:\n",
    "            \n",
    "            # Determine prediction of model on dev set\n",
    "            data_inputs, data_labels = data_inputs.to(device), data_labels.to(device)\n",
    "            preds = model(data_inputs)\n",
    "            # preds = preds.squeeze(dim=1)\n",
    "            # preds = torch.sigmoid(preds) # Sigmoid to map predictions between 0 and 1\n",
    "            pred_labels = torch.argmax(preds, dim=-1) # Binarize predictions to 0 and 10\n",
    "            \n",
    "            # Keep records of predictions for the accuracy metric (true_preds=TP+TN, num_preds=TP+TN+FP+FN)\n",
    "            true_preds += (pred_labels == data_labels).sum()\n",
    "            num_preds += data_labels.shape[0]\n",
    "            \n",
    "    acc = true_preds / num_preds\n",
    "    print(f\"Accuracy of the model: {100.0*acc:4.2f}%\")"
   ]
  },
  {
   "cell_type": "code",
   "execution_count": 39,
   "metadata": {},
   "outputs": [
    {
     "name": "stdout",
     "output_type": "stream",
     "text": [
      "Accuracy of the model: 92.27%\n"
     ]
    }
   ],
   "source": [
    "eval_model(model_test, test_loader)"
   ]
  },
  {
   "cell_type": "code",
   "execution_count": 40,
   "metadata": {},
   "outputs": [],
   "source": [
    "# for child in model.children():\n",
    "#    print(\" child : \",child)"
   ]
  },
  {
   "cell_type": "markdown",
   "metadata": {},
   "source": []
  }
 ],
 "metadata": {
  "kernelspec": {
   "display_name": "work_env",
   "language": "python",
   "name": "python3"
  },
  "language_info": {
   "codemirror_mode": {
    "name": "ipython",
    "version": 3
   },
   "file_extension": ".py",
   "mimetype": "text/x-python",
   "name": "python",
   "nbconvert_exporter": "python",
   "pygments_lexer": "ipython3",
   "version": "3.12.3"
  },
  "orig_nbformat": 4
 },
 "nbformat": 4,
 "nbformat_minor": 2
}
